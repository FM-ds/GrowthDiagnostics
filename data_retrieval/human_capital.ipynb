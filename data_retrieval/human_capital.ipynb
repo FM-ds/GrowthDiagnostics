{
 "cells": [
  {
   "cell_type": "code",
   "execution_count": 2,
   "metadata": {},
   "outputs": [],
   "source": [
    "import pandas as pd \n",
    "import numpy as np\n",
    "import requests\n",
    "import boto3\n",
    "import os\n",
    "import json\n",
    "from io import BytesIO\n",
    "import base64\n",
    "from bs4 import BeautifulSoup\n",
    "import json5\n",
    "\n",
    "charts_path = \"/Users/finn/Documents/GitHub/GrowthDiagnostics/charts\""
   ]
  },
  {
   "cell_type": "code",
   "execution_count": 3,
   "metadata": {},
   "outputs": [],
   "source": [
    "def upload_series(df, name, bucket=\"eco-temp-cache\"):\n",
    "    csv = df.to_csv(index=False, date_format='%Y-%m-%d')\n",
    "    s3 = boto3.client('s3')\n",
    "    res = s3.put_object(Bucket=bucket, Key=f\"gd/{name}.csv\", Body=csv)\n",
    "    return f\"https://eco-temp-cache.s3.eu-west-2.amazonaws.com/gd/{name}.csv\"\n",
    "\n",
    "def prepare_spec(data_url, path, title, filter=None, parent_path=\"charts\", multi_series=False, yAxisExpr=None):\n",
    "    spec = {\n",
    "        \"$schema\": \"https://vega.github.io/schema/vega-lite/v5.json\",\n",
    "        \"title\": {\"text\": title},\n",
    "        \"transform\": [{\"filter\": \"datum.value>0\"}],\n",
    "        \"data\": {\n",
    "            \"url\": data_url,\n",
    "        },\n",
    "        \"mark\": {\"type\": \"line\"},\n",
    "        \"encoding\": {\n",
    "            \"x\": {\n",
    "                \"field\": \"date\",\n",
    "                \"type\": \"temporal\",\n",
    "                \"axis\": {\"title\": \"\", \"titleColor\": \"#122B39\"}\n",
    "            },\n",
    "            \"y\": {\n",
    "                \"field\": \"value\",\n",
    "                \"type\": \"quantitative\",\n",
    "                \"axis\": {\"title\": \"\", \"titleColor\": \"#122B39\"}\n",
    "            }\n",
    "        }\n",
    "    }\n",
    "    if filter:\n",
    "        spec['transform'].append({\"filter\": filter})\n",
    "    if multi_series:\n",
    "        spec['encoding']['color'] = {\"field\": \"series\", \"type\": \"nominal\"}\n",
    "    if yAxisExpr:\n",
    "        spec['encoding']['y']['axis']['labelExpr'] = yAxisExpr\n",
    "    with open(f\"{parent_path}/{path}.json\", \"w\") as f:\n",
    "        f.write(json.dumps(spec))"
   ]
  },
  {
   "cell_type": "code",
   "execution_count": 4,
   "metadata": {},
   "outputs": [],
   "source": [
    "def get_stats(df):\n",
    "    df = df.sort_values('date')\n",
    "    # get the most recent value and it's date\n",
    "    latest = df.iloc[-1]\n",
    "    latest_date = latest.date\n",
    "    latest_value = latest.value\n",
    "    # get the as close to 1 year ago as possible\n",
    "    year_ago = df[df.date<=df.date.max()-pd.DateOffset(years=1)].iloc[-1]\n",
    "    year_ago_date = year_ago.date\n",
    "    year_ago_value = year_ago.value\n",
    "    # get the average for the last 10 years (or as many as we have)\n",
    "    avg = df[df.date>df.date.max()-pd.DateOffset(years=10)].value.mean()\n",
    "    avg_year_count = df.iloc[-1].date.year-df[df.date>df.date.max()-pd.DateOffset(years=10)].iloc[0].date.year\n",
    "    return {\n",
    "        'latest': {'date': latest_date, 'value': latest_value},\n",
    "        'latest_date': latest_date,\n",
    "        'year_ago': {'date': year_ago_date, 'value': year_ago_value},\n",
    "        'year_ago_date': year_ago_date,\n",
    "        'avg': avg,\n",
    "        'avg_year_count': avg_year_count\n",
    "    }\n",
    "\n",
    "def human_change(val1, val2, date1, date2, date_format=\"%b %Y\", val_format=\".1%\", change_format=\".3f\", change_multiplier=1, change_suffix=\"\", val_suffix=\"\", val_multiplier=1):\n",
    "    print(f\"val1: {val1}, val2: {val2}, date1: {date1}, date2: {date2}\")\n",
    "    if np.round(val1, 3) == np.round(val2, 3):\n",
    "        return f\"unchanged from {date2.strftime(date_format)}\"\n",
    "    if val1 > val2:\n",
    "        return f\"up {(val1-val2)*change_multiplier:{change_format}}{change_suffix} from {date2.strftime(date_format)} when it was {val2*val_multiplier:{val_format}}{val_suffix}\"\n",
    "    if val1 < val2:\n",
    "        return f\"down {(val1-val2)*change_multiplier:{change_format}}{change_suffix} from {date2.strftime(date_format)} when it was {val2*val_multiplier:{val_format}}{val_suffix}\"  \n",
    "\n",
    "def temporal_description(data, name=\"it\", preamble=\"\", val_format=\".1%\", change_format=\".3f\", val_multiplier=1, change_multiplier=1, change_suffix=\"\", date_format=\"%b %Y\", val_suffix=\"\"):\n",
    "    if len(preamble)>0 and preamble[-1]!=\" \":\n",
    "        preamble += \" \"\n",
    "    stats = get_stats(data)\n",
    "    return f\"{preamble}In {stats['latest']['date'].strftime('%B %Y')}, {name} was {stats['latest']['value']*val_multiplier:{val_format}}{val_suffix} . This is {human_change(stats['latest']['value'], stats['year_ago']['value'], stats['latest']['date'], stats['year_ago']['date'], date_format, val_format, change_format, change_multiplier, change_suffix, val_suffix=val_suffix, val_multiplier=val_multiplier)}. The average for the last {stats['avg_year_count']} years is {stats['avg']*val_multiplier:{val_format}}{val_suffix}.\"\n",
    "\n",
    "def upload_description(description, name, bucket=\"eco-temp-cache\"):\n",
    "    s3 = boto3.client('s3')\n",
    "    res = s3.put_object(Bucket=bucket, Key=f\"gd/descriptions/{name}.txt\", Body=json.dumps(description))\n",
    "    return f\"https://eco-temp-cache.s3.eu-west-2.amazonaws.com/gd/descriptions/{name}.txt\"\n",
    "\n",
    "def short_description(stats, var_name, date_format=\"%b %Y\", val_format=\".1%\", val_multiplier=1, val_suffix=\"\"):\n",
    "    direction = 'unchanged' if np.round(stats['latest']['value'], 3) == np.round(stats['year_ago']['value'], 3) else \"up\" if np.round(stats['latest']['value'], 3) > np.round(stats['year_ago']['value'], 3) else \"down\"\n",
    "    desc = f\"{var_name} is {stats['latest']['value']*val_multiplier:{val_format}}{val_suffix}. It is {direction} from {stats['year_ago_date'].strftime(date_format)} ({stats['year_ago']['value']*val_multiplier:{val_format}}{val_suffix}). The UK historical average (past {stats['avg_year_count']} years) is {stats['avg']*val_multiplier:{val_format}}{val_suffix}.\"\n",
    "    return desc\n"
   ]
  },
  {
   "cell_type": "code",
   "execution_count": 5,
   "metadata": {},
   "outputs": [],
   "source": [
    "def upload_to_datahub(df, name, bucket=\"eco-temp-cache\"):\n",
    "    json_data = df.to_json(orient=\"records\", date_format='iso')\n",
    "    s3 = boto3.client('s3')\n",
    "    res = s3.put_object(Bucket=bucket, Key=f\"gbr/{name}.json\", Body=json_data)\n",
    "    return f\"https://eco-temp-cache.s3.eu-west-2.amazonaws.com/gbr/{name}.json\"\n"
   ]
  },
  {
   "cell_type": "markdown",
   "metadata": {},
   "source": [
    "# PISA Scores"
   ]
  },
  {
   "cell_type": "code",
   "execution_count": 6,
   "metadata": {},
   "outputs": [],
   "source": [
    "df = pd.read_excel(\"/Users/finn/Documents/GitHub/GrowthDiagnostics/manual_data/pisa.xls\", skiprows=11)\n",
    "df = df.iloc[:, 1:]\n",
    "# propagate Year/Study downwards\n",
    "df[\"Year/Study\"] = df[\"Year/Study\"].ffill()\n",
    "df[\"date\"] = pd.to_datetime(df[\"Year/Study\"], errors=\"coerce\", format=\"%Y\")\n",
    "df[\"value\"] = pd.to_numeric(df[\"Average\"], errors=\"coerce\")\n",
    "df[\"series\"] = df[\"Jurisdiction\"]\n",
    "df = df.dropna(subset=[\"date\", \"series\", \"value\"])\n",
    "df = df[[\"date\", \"series\", \"value\"]]\n",
    "\n",
    "# keep only series with at least 3 data points\n",
    "df = df.groupby(\"series\").filter(lambda x: len(x) >= 3)\n",
    "\n",
    "# keep just UK and \"International Average (OECD)\"\n",
    "df = df[df[\"series\"].isin([\"United Kingdom\", \"International Average (OECD)\"])]\n",
    "df.series = df.series.replace({\"United Kingdom\": \"UK\", \n",
    "                               \"International Average (OECD)\": \"OECD\"})\n",
    "pisa_df = df.copy()\n",
    "\n",
    "pisa_url = upload_series(df, \"pisa\")\n",
    "\n",
    "prepare_spec(pisa_url, \"human_capital_pisa\", \"PISA Scores\", multi_series=True, parent_path=charts_path)\n"
   ]
  },
  {
   "cell_type": "code",
   "execution_count": 10,
   "metadata": {},
   "outputs": [
    {
     "name": "stdout",
     "output_type": "stream",
     "text": [
      "The UK average maths PISA Score is 489. It is down from Jan 2018 (502). The UK historical average (past 7 years) is 494.\n"
     ]
    }
   ],
   "source": [
    "stats = get_stats(pisa_df.query(\"series=='UK'\"))\n",
    "description = short_description(stats, \"The UK average maths PISA Score\", val_format=\".0f\")\n",
    "print(description)\n",
    "description_url = upload_description(description, \"human_capital_pisa\")\n"
   ]
  },
  {
   "cell_type": "code",
   "execution_count": 11,
   "metadata": {},
   "outputs": [
    {
     "data": {
      "text/plain": [
       "'https://eco-temp-cache.s3.eu-west-2.amazonaws.com/gbr/pisa.json'"
      ]
     },
     "execution_count": 11,
     "metadata": {},
     "output_type": "execute_result"
    }
   ],
   "source": [
    "dh_url = upload_to_datahub(pisa_df.query(\"series=='UK'\")[[\"date\", \"value\"]], \"pisa\")\n",
    "dh_url"
   ]
  },
  {
   "cell_type": "markdown",
   "metadata": {},
   "source": [
    "# Quantity of Graduates"
   ]
  },
  {
   "cell_type": "code",
   "execution_count": 12,
   "metadata": {},
   "outputs": [],
   "source": [
    "# Quantity with NVQ4+, whole UK, 16-64\n",
    "url = \"https://www.nomisweb.co.uk/api/v01/dataset/NM_17_1.data.csv?geography=2092957697&cell=403898630&measures=20100,20701\"\n",
    "df = pd.read_csv(url)\n",
    "df['date'] = pd.to_datetime(df['DATE_CODE'], format=\"%Y-%m\")\n",
    "df = df.query(\"MEASURES_NAME == 'Value'\")\n",
    "df['value'] = df['OBS_VALUE']\n",
    "df = df[[\"date\", \"value\"]]\n",
    "df = df.dropna(subset=[\"date\", \"value\"])\n",
    "grad_df = df.copy()\n",
    "\n",
    "nvq4_url = upload_series(df, \"nvq4\")\n",
    "prepare_spec(nvq4_url, \"human_capital_nvq4\", \"Population with NVQ4+\", parent_path=charts_path, yAxisExpr=\"format(datum.value, ',.0s')\")"
   ]
  },
  {
   "cell_type": "code",
   "execution_count": 16,
   "metadata": {},
   "outputs": [
    {
     "name": "stdout",
     "output_type": "stream",
     "text": [
      "The graduate population (16-64) is 17.96M. It is up from Dec 2020 (17.75M). The UK historical average (past 9 years) is 15.71M.\n"
     ]
    }
   ],
   "source": [
    "# stats = get_stats(grad_df)\n",
    "# description = temporal_description(grad_df, \n",
    "#                                    \"the UK population aged 16-64 with degree level qualifications\", \n",
    "#                                    \"\",\n",
    "#                                    val_format=\",.2f\",\n",
    "#                                    val_suffix=\"M\",\n",
    "#                                    change_format=\",.2f\",\n",
    "#                                    change_multiplier=1/1000000,\n",
    "#                                    val_multiplier=1/1000000,\n",
    "#                                    change_suffix=\"M\",\n",
    "#                                    date_format=\"%b %Y\")\n",
    "# description_url = upload_description(description, \"human_capital_nvq4\")\n",
    "# print(description)\n",
    "\n",
    "stats = get_stats(grad_df)\n",
    "description = short_description(stats, \"The graduate population (16-64)\", val_format=\",.2f\", val_suffix=\"M\", val_multiplier=1/1000000)\n",
    "print(description)"
   ]
  },
  {
   "cell_type": "code",
   "execution_count": 17,
   "metadata": {},
   "outputs": [
    {
     "data": {
      "text/plain": [
       "'https://eco-temp-cache.s3.eu-west-2.amazonaws.com/gbr/nvq4.json'"
      ]
     },
     "execution_count": 17,
     "metadata": {},
     "output_type": "execute_result"
    }
   ],
   "source": [
    "dh_url = upload_to_datahub(grad_df[[\"date\", \"value\"]], \"nvq4\")\n",
    "dh_url"
   ]
  },
  {
   "cell_type": "markdown",
   "metadata": {},
   "source": [
    "# A Levels"
   ]
  },
  {
   "cell_type": "code",
   "execution_count": 18,
   "metadata": {},
   "outputs": [],
   "source": [
    "url = \"https://www.nomisweb.co.uk/api/v01/dataset/NM_17_5.data.csv?geography=2092957697&variable=1911,720&measures=20599,21001,21002,21003\"\n",
    "df = pd.read_csv(url)\n",
    "\n",
    "df['date'] = pd.to_datetime(df['DATE_CODE'], format=\"%Y-%m\")\n",
    "\n",
    "df = df.query(\"MEASURES_NAME == 'Variable'\")\n",
    "\n",
    "\n",
    "\n",
    "df['value'] = df['OBS_VALUE']\n",
    "df = df.dropna(subset=[\"date\", \"value\"])\n",
    "\n",
    "\n",
    "df = df[[\"date\", \"value\"]]\n",
    "\n",
    "df = df.query(\"value > 25\")\n",
    "\n",
    "df = df.dropna(subset=[\"date\", \"value\"])\n",
    "df['value'] = df['value']/100\n",
    "nvq3_df = df.copy()\n",
    "\n",
    "nvq3_url = upload_series(df, \"nvq3\")\n",
    "prepare_spec(nvq3_url, \"human_capital_nvq3\", \"Population with NVQ3+, %\", parent_path=charts_path, yAxisExpr=\"format(datum.value, '.0%')\")\n",
    "\n"
   ]
  },
  {
   "cell_type": "code",
   "execution_count": 21,
   "metadata": {},
   "outputs": [
    {
     "name": "stdout",
     "output_type": "stream",
     "text": [
      "The percentage of 16-64 year olds with at least A-level qualifications, or equivalents is 61.40%. It is up from Dec 2020 (61.20%). The UK historical average (past 9 years) is 56.91%.\n",
      "The percentage of 16-64 year olds with at least A-level qualifications, or equivalents is 61.40%. It is up from Dec 2020 (61.20%). The UK historical average (past 9 years) is 56.91%.\n"
     ]
    }
   ],
   "source": [
    "# stats = get_stats(nvq3_df)\n",
    "# description = temporal_description(nvq3_df, \n",
    "#                                    \"the percentage of 16-64 year olds with at least A-level qualifications, or equivalents, \", \n",
    "#                                     \"\",\n",
    "#                                    val_format=\".2%\",\n",
    "#                                    change_format=\".3f\",\n",
    "#                                    change_multiplier=100,\n",
    "#                                    change_units=\"pp\",\n",
    "#                                    date_format=\"%b %Y\")\n",
    "# description_url = upload_description(description, \"human_capital_nvq3\")\n",
    "# print(description)\n",
    "\n",
    "stats = get_stats(nvq3_df)\n",
    "print(description)\n",
    "description_url = upload_description(description, \"human_capital_nvq3\")\n",
    "print(description)"
   ]
  },
  {
   "cell_type": "code",
   "execution_count": null,
   "metadata": {},
   "outputs": [],
   "source": []
  },
  {
   "cell_type": "code",
   "execution_count": null,
   "metadata": {},
   "outputs": [],
   "source": []
  },
  {
   "cell_type": "code",
   "execution_count": null,
   "metadata": {},
   "outputs": [],
   "source": [
    "\n",
    "\n",
    "df['value'] = df['OBS_VALUE']\n",
    "df = df[[\"date\", \"value\"]]\n",
    "\n",
    "df\n",
    "\n",
    "df"
   ]
  },
  {
   "cell_type": "code",
   "execution_count": null,
   "metadata": {},
   "outputs": [],
   "source": []
  },
  {
   "cell_type": "code",
   "execution_count": null,
   "metadata": {},
   "outputs": [],
   "source": []
  },
  {
   "cell_type": "code",
   "execution_count": null,
   "metadata": {},
   "outputs": [],
   "source": []
  },
  {
   "cell_type": "markdown",
   "metadata": {},
   "source": []
  }
 ],
 "metadata": {
  "kernelspec": {
   "display_name": "base",
   "language": "python",
   "name": "python3"
  },
  "language_info": {
   "codemirror_mode": {
    "name": "ipython",
    "version": 3
   },
   "file_extension": ".py",
   "mimetype": "text/x-python",
   "name": "python",
   "nbconvert_exporter": "python",
   "pygments_lexer": "ipython3",
   "version": "3.11.4"
  }
 },
 "nbformat": 4,
 "nbformat_minor": 2
}
