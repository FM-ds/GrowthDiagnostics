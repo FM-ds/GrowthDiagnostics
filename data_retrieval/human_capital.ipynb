{
 "cells": [
  {
   "cell_type": "code",
   "execution_count": 1,
   "metadata": {},
   "outputs": [],
   "source": [
    "import pandas as pd \n",
    "import numpy as np\n",
    "import requests\n",
    "import boto3\n",
    "import os\n",
    "import json\n",
    "from io import BytesIO\n",
    "import base64\n",
    "from bs4 import BeautifulSoup\n",
    "import json5\n",
    "\n",
    "charts_path = \"/Users/finn/Documents/GitHub/GrowthDiagnostics/charts\""
   ]
  },
  {
   "cell_type": "code",
   "execution_count": 91,
   "metadata": {},
   "outputs": [],
   "source": [
    "def upload_series(df, name, bucket=\"eco-temp-cache\"):\n",
    "    csv = df.to_csv(index=False, date_format='%Y-%m-%d')\n",
    "    s3 = boto3.client('s3')\n",
    "    res = s3.put_object(Bucket=bucket, Key=f\"gd/{name}.csv\", Body=csv)\n",
    "    return f\"https://eco-temp-cache.s3.eu-west-2.amazonaws.com/gd/{name}.csv\"\n",
    "\n",
    "def prepare_spec(data_url, path, title, filter=None, parent_path=\"charts\", multi_series=False, yAxisExpr=None):\n",
    "    spec = {\n",
    "        \"$schema\": \"https://vega.github.io/schema/vega-lite/v5.json\",\n",
    "        \"title\": {\"text\": title},\n",
    "        \"transform\": [{\"filter\": \"datum.value>0\"}],\n",
    "        \"data\": {\n",
    "            \"url\": data_url,\n",
    "        },\n",
    "        \"mark\": {\"type\": \"line\"},\n",
    "        \"encoding\": {\n",
    "            \"x\": {\n",
    "                \"field\": \"date\",\n",
    "                \"type\": \"temporal\",\n",
    "                \"axis\": {\"title\": \"\", \"titleColor\": \"#122B39\"}\n",
    "            },\n",
    "            \"y\": {\n",
    "                \"field\": \"value\",\n",
    "                \"type\": \"quantitative\",\n",
    "                \"axis\": {\"title\": \"\", \"titleColor\": \"#122B39\"}\n",
    "            }\n",
    "        }\n",
    "    }\n",
    "    if filter:\n",
    "        spec['transform'].append({\"filter\": filter})\n",
    "    if multi_series:\n",
    "        spec['encoding']['color'] = {\"field\": \"series\", \"type\": \"nominal\"}\n",
    "    if yAxisExpr:\n",
    "        spec['encoding']['y']['axis']['labelExpr'] = yAxisExpr\n",
    "    with open(f\"{parent_path}/{path}.json\", \"w\") as f:\n",
    "        f.write(json.dumps(spec))"
   ]
  },
  {
   "cell_type": "code",
   "execution_count": 68,
   "metadata": {},
   "outputs": [],
   "source": [
    "def get_stats(df):\n",
    "    df = df.sort_values('date')\n",
    "    # get the most recent value and it's date\n",
    "    latest = df.iloc[-1]\n",
    "    latest_date = latest.date\n",
    "    latest_value = latest.value\n",
    "    # get the as close to 1 year ago as possible\n",
    "    year_ago = df[df.date<=df.date.max()-pd.DateOffset(years=1)].iloc[-1]\n",
    "    year_ago_date = year_ago.date\n",
    "    year_ago_value = year_ago.value\n",
    "    # get the average for the last 10 years (or as many as we have)\n",
    "    avg = df[df.date>df.date.max()-pd.DateOffset(years=10)].value.mean()\n",
    "    avg_year_count = df.iloc[-1].date.year-df[df.date>df.date.max()-pd.DateOffset(years=10)].iloc[0].date.year\n",
    "    return {\n",
    "        'latest': {'date': latest_date, 'value': latest_value},\n",
    "        'latest_date': latest_date,\n",
    "        'year_ago': {'date': year_ago_date, 'value': year_ago_value},\n",
    "        'year_ago_date': year_ago_date,\n",
    "        'avg': avg,\n",
    "        'avg_year_count': avg_year_count\n",
    "    }\n",
    "\n",
    "def human_change(val1, val2, date1, date2, date_format=\"%b %Y\", val_format=\".1%\", change_format=\".3f\", change_multiplier=1, change_units=\"\"):\n",
    "    print(f\"val1: {val1}, val2: {val2}, date1: {date1}, date2: {date2}\")\n",
    "    if np.round(val1, 3) == np.round(val2, 3):\n",
    "        return f\"unchanged from {date2.strftime(date_format)}\"\n",
    "    if val1 > val2:\n",
    "        return f\"up {(val1-val2)*change_multiplier:{change_format}}{change_units} from {date2.strftime(date_format)} when it was {val2:{val_format}}\"\n",
    "    if val1 < val2:\n",
    "        return f\"down {(val1-val2)*change_multiplier:{change_format}}{change_units} from {date2.strftime(date_format)} when it was {val2:{val_format}}\"  \n",
    "\n",
    "def temporal_description(data, name=\"it\", preamble=\"\", val_format=\".1%\", change_format=\".3f\", change_multiplier=1, change_units=\"\", date_format=\"%b %Y\"):\n",
    "    if len(preamble)>0 and preamble[-1]!=\" \":\n",
    "        preamble += \" \"\n",
    "    stats = get_stats(data)\n",
    "    return f\"{preamble}In {stats['latest']['date'].strftime('%B %Y')}, {name} was {stats['latest']['value']:{val_format}}. This is {human_change(stats['latest']['value'], stats['year_ago']['value'], stats['latest']['date'], stats['year_ago']['date'], date_format, val_format, change_format, change_multiplier, change_units)}. The average for the last {stats['avg_year_count']} years is {stats['avg']:{val_format}}.\"\n",
    "\n",
    "def upload_description(description, name, bucket=\"eco-temp-cache\"):\n",
    "    s3 = boto3.client('s3')\n",
    "    res = s3.put_object(Bucket=bucket, Key=f\"gd/descriptions/{name}.txt\", Body=json.dumps(description))\n",
    "    return f\"https://eco-temp-cache.s3.eu-west-2.amazonaws.com/gd/descriptions/{name}.txt\"\n"
   ]
  },
  {
   "cell_type": "markdown",
   "metadata": {},
   "source": [
    "# PISA Scores"
   ]
  },
  {
   "cell_type": "code",
   "execution_count": 63,
   "metadata": {},
   "outputs": [],
   "source": [
    "df = pd.read_excel(\"/Users/finn/Documents/GitHub/GrowthDiagnostics/manual_data/pisa.xls\", skiprows=11)\n",
    "df = df.iloc[:, 1:]\n",
    "# propagate Year/Study downwards\n",
    "df[\"Year/Study\"] = df[\"Year/Study\"].ffill()\n",
    "df[\"date\"] = pd.to_datetime(df[\"Year/Study\"], errors=\"coerce\", format=\"%Y\")\n",
    "df[\"value\"] = pd.to_numeric(df[\"Average\"], errors=\"coerce\")\n",
    "df[\"series\"] = df[\"Jurisdiction\"]\n",
    "df = df.dropna(subset=[\"date\", \"series\", \"value\"])\n",
    "df = df[[\"date\", \"series\", \"value\"]]\n",
    "\n",
    "# keep only series with at least 3 data points\n",
    "df = df.groupby(\"series\").filter(lambda x: len(x) >= 3)\n",
    "\n",
    "# keep just UK and \"International Average (OECD)\"\n",
    "df = df[df[\"series\"].isin([\"United Kingdom\", \"International Average (OECD)\"])]\n",
    "df.series = df.series.replace({\"United Kingdom\": \"UK\", \n",
    "                               \"International Average (OECD)\": \"OECD\"})\n",
    "pisa_df = df.copy()\n",
    "\n",
    "pisa_url = upload_series(df, \"pisa\")\n",
    "\n",
    "prepare_spec(pisa_url, \"human_capital_pisa\", \"PISA Scores\", multi_series=True, parent_path=charts_path)\n"
   ]
  },
  {
   "cell_type": "code",
   "execution_count": 69,
   "metadata": {},
   "outputs": [
    {
     "name": "stdout",
     "output_type": "stream",
     "text": [
      "val1: 488.975085044251, val2: 501.769899185046, date1: 2022-01-01 00:00:00, date2: 2018-01-01 00:00:00\n",
      "The PISA test is an international test of student performance in reading, maths and science. In January 2022, the UK average PISA Score was 489. This is down -13 from Jan 2018 when it was 502. The average for the last 7 years is 494.\n"
     ]
    }
   ],
   "source": [
    "stats = get_stats(pisa_df.query(\"series=='UK'\"))\n",
    "description = temporal_description(pisa_df.query(\"series=='UK'\"), \n",
    "                                   \"the UK average PISA Score\", \n",
    "                                   \"The PISA test is an international test of student performance in reading, maths and science. \", \n",
    "                                   val_format=\".0f\",\n",
    "                                   change_format=\".0f\",\n",
    "                                   change_multiplier=1,\n",
    "                                   date_format=\"%b %Y\")\n",
    "description_url = upload_description(description, \"human_capital_pisa\")\n",
    "print(description)\n"
   ]
  },
  {
   "cell_type": "markdown",
   "metadata": {},
   "source": [
    "# Quantity of Graduates"
   ]
  },
  {
   "cell_type": "code",
   "execution_count": 75,
   "metadata": {},
   "outputs": [],
   "source": [
    "# Quantity with NVQ4+, whole UK, 16-64\n",
    "url = \"https://www.nomisweb.co.uk/api/v01/dataset/NM_17_1.data.csv?geography=2092957697&cell=403898630&measures=20100,20701\"\n",
    "df = pd.read_csv(url)\n",
    "df['date'] = pd.to_datetime(df['DATE_CODE'], format=\"%Y-%m\")\n",
    "df = df.query(\"MEASURES_NAME == 'Value'\")\n",
    "df['value'] = df['OBS_VALUE']\n",
    "df = df[[\"date\", \"value\"]]\n",
    "df = df.dropna(subset=[\"date\", \"value\"])\n",
    "grad_df = df.copy()\n",
    "\n",
    "nvq4_url = upload_series(df, \"nvq4\")\n",
    "prepare_spec(nvq4_url, \"human_capital_nvq4\", \"Population with NVQ4+\", parent_path=charts_path)"
   ]
  },
  {
   "cell_type": "code",
   "execution_count": 80,
   "metadata": {},
   "outputs": [
    {
     "name": "stdout",
     "output_type": "stream",
     "text": [
      "val1: 17958300.0, val2: 17750700.0, date1: 2021-12-01 00:00:00, date2: 2020-12-01 00:00:00\n",
      "In December 2021, the UK population aged 16-64 with degree level qualifications was 17,958,300. This is up 207,600 from Dec 2020 when it was 17,750,700. The average for the last 9 years is 15,706,010.\n"
     ]
    }
   ],
   "source": [
    "stats = get_stats(grad_df)\n",
    "description = temporal_description(grad_df, \n",
    "                                   \"the UK population aged 16-64 with degree level qualifications\", \n",
    "                                   \"\",\n",
    "                                   val_format=\",.0f\",\n",
    "                                   change_format=\",.0f\",\n",
    "                                   change_multiplier=1,\n",
    "                                   change_units=\"\",\n",
    "                                   date_format=\"%b %Y\")\n",
    "description_url = upload_description(description, \"human_capital_nvq4\")\n",
    "print(description)"
   ]
  },
  {
   "cell_type": "markdown",
   "metadata": {},
   "source": [
    "# A Levels"
   ]
  },
  {
   "cell_type": "code",
   "execution_count": 92,
   "metadata": {},
   "outputs": [],
   "source": [
    "url = \"https://www.nomisweb.co.uk/api/v01/dataset/NM_17_5.data.csv?geography=2092957697&variable=1911,720&measures=20599,21001,21002,21003\"\n",
    "df = pd.read_csv(url)\n",
    "\n",
    "df['date'] = pd.to_datetime(df['DATE_CODE'], format=\"%Y-%m\")\n",
    "\n",
    "df = df.query(\"MEASURES_NAME == 'Variable'\")\n",
    "\n",
    "\n",
    "\n",
    "df['value'] = df['OBS_VALUE']\n",
    "df = df.dropna(subset=[\"date\", \"value\"])\n",
    "\n",
    "\n",
    "df = df[[\"date\", \"value\"]]\n",
    "\n",
    "df = df.query(\"value > 25\")\n",
    "\n",
    "df = df.dropna(subset=[\"date\", \"value\"])\n",
    "df['value'] = df['value']/100\n",
    "nvq3_df = df.copy()\n",
    "\n",
    "nvq3_url = upload_series(df, \"nvq3\")\n",
    "prepare_spec(nvq3_url, \"human_capital_nvq3\", \"Population with NVQ3+, %\", parent_path=charts_path, yAxisExpr=\"format('.0%', datum.value)\")\n",
    "\n"
   ]
  },
  {
   "cell_type": "code",
   "execution_count": 85,
   "metadata": {},
   "outputs": [
    {
     "data": {
      "text/html": [
       "<div>\n",
       "<style scoped>\n",
       "    .dataframe tbody tr th:only-of-type {\n",
       "        vertical-align: middle;\n",
       "    }\n",
       "\n",
       "    .dataframe tbody tr th {\n",
       "        vertical-align: top;\n",
       "    }\n",
       "\n",
       "    .dataframe thead th {\n",
       "        text-align: right;\n",
       "    }\n",
       "</style>\n",
       "<table border=\"1\" class=\"dataframe\">\n",
       "  <thead>\n",
       "    <tr style=\"text-align: right;\">\n",
       "      <th></th>\n",
       "      <th>date</th>\n",
       "      <th>value</th>\n",
       "    </tr>\n",
       "  </thead>\n",
       "  <tbody>\n",
       "    <tr>\n",
       "      <th>4</th>\n",
       "      <td>2004-12-01</td>\n",
       "      <td>43.7</td>\n",
       "    </tr>\n",
       "    <tr>\n",
       "      <th>36</th>\n",
       "      <td>2005-12-01</td>\n",
       "      <td>44.3</td>\n",
       "    </tr>\n",
       "    <tr>\n",
       "      <th>68</th>\n",
       "      <td>2006-12-01</td>\n",
       "      <td>45.2</td>\n",
       "    </tr>\n",
       "    <tr>\n",
       "      <th>100</th>\n",
       "      <td>2007-12-01</td>\n",
       "      <td>46.1</td>\n",
       "    </tr>\n",
       "    <tr>\n",
       "      <th>132</th>\n",
       "      <td>2008-12-01</td>\n",
       "      <td>46.0</td>\n",
       "    </tr>\n",
       "    <tr>\n",
       "      <th>164</th>\n",
       "      <td>2009-12-01</td>\n",
       "      <td>47.2</td>\n",
       "    </tr>\n",
       "    <tr>\n",
       "      <th>196</th>\n",
       "      <td>2010-12-01</td>\n",
       "      <td>48.8</td>\n",
       "    </tr>\n",
       "    <tr>\n",
       "      <th>228</th>\n",
       "      <td>2011-12-01</td>\n",
       "      <td>50.5</td>\n",
       "    </tr>\n",
       "    <tr>\n",
       "      <th>260</th>\n",
       "      <td>2012-12-01</td>\n",
       "      <td>52.9</td>\n",
       "    </tr>\n",
       "    <tr>\n",
       "      <th>292</th>\n",
       "      <td>2013-12-01</td>\n",
       "      <td>53.7</td>\n",
       "    </tr>\n",
       "    <tr>\n",
       "      <th>324</th>\n",
       "      <td>2014-12-01</td>\n",
       "      <td>54.8</td>\n",
       "    </tr>\n",
       "    <tr>\n",
       "      <th>356</th>\n",
       "      <td>2015-12-01</td>\n",
       "      <td>55.5</td>\n",
       "    </tr>\n",
       "    <tr>\n",
       "      <th>388</th>\n",
       "      <td>2016-12-01</td>\n",
       "      <td>56.7</td>\n",
       "    </tr>\n",
       "    <tr>\n",
       "      <th>420</th>\n",
       "      <td>2017-12-01</td>\n",
       "      <td>56.9</td>\n",
       "    </tr>\n",
       "    <tr>\n",
       "      <th>452</th>\n",
       "      <td>2018-12-01</td>\n",
       "      <td>57.6</td>\n",
       "    </tr>\n",
       "    <tr>\n",
       "      <th>484</th>\n",
       "      <td>2019-12-01</td>\n",
       "      <td>58.4</td>\n",
       "    </tr>\n",
       "    <tr>\n",
       "      <th>516</th>\n",
       "      <td>2020-12-01</td>\n",
       "      <td>61.2</td>\n",
       "    </tr>\n",
       "    <tr>\n",
       "      <th>548</th>\n",
       "      <td>2021-12-01</td>\n",
       "      <td>61.4</td>\n",
       "    </tr>\n",
       "  </tbody>\n",
       "</table>\n",
       "</div>"
      ],
      "text/plain": [
       "          date  value\n",
       "4   2004-12-01   43.7\n",
       "36  2005-12-01   44.3\n",
       "68  2006-12-01   45.2\n",
       "100 2007-12-01   46.1\n",
       "132 2008-12-01   46.0\n",
       "164 2009-12-01   47.2\n",
       "196 2010-12-01   48.8\n",
       "228 2011-12-01   50.5\n",
       "260 2012-12-01   52.9\n",
       "292 2013-12-01   53.7\n",
       "324 2014-12-01   54.8\n",
       "356 2015-12-01   55.5\n",
       "388 2016-12-01   56.7\n",
       "420 2017-12-01   56.9\n",
       "452 2018-12-01   57.6\n",
       "484 2019-12-01   58.4\n",
       "516 2020-12-01   61.2\n",
       "548 2021-12-01   61.4"
      ]
     },
     "execution_count": 85,
     "metadata": {},
     "output_type": "execute_result"
    }
   ],
   "source": [
    "nvq3_df"
   ]
  },
  {
   "cell_type": "code",
   "execution_count": 88,
   "metadata": {},
   "outputs": [
    {
     "name": "stdout",
     "output_type": "stream",
     "text": [
      "val1: 0.614, val2: 0.612, date1: 2021-12-01 00:00:00, date2: 2020-12-01 00:00:00\n",
      "In December 2021, the percentage of 16-64 year olds with at least A-level qualifications, or equivalents,  was 61.40%. This is up 0.200pp from Dec 2020 when it was 61.20%. The average for the last 9 years is 56.91%.\n"
     ]
    }
   ],
   "source": [
    "stats = get_stats(nvq3_df)\n",
    "description = temporal_description(nvq3_df, \n",
    "                                   \"the percentage of 16-64 year olds with at least A-level qualifications, or equivalents, \", \n",
    "                                    \"\",\n",
    "                                   val_format=\".2%\",\n",
    "                                   change_format=\".3f\",\n",
    "                                   change_multiplier=100,\n",
    "                                   change_units=\"pp\",\n",
    "                                   date_format=\"%b %Y\")\n",
    "description_url = upload_description(description, \"human_capital_nvq3\")\n",
    "print(description)"
   ]
  },
  {
   "cell_type": "code",
   "execution_count": null,
   "metadata": {},
   "outputs": [],
   "source": []
  },
  {
   "cell_type": "code",
   "execution_count": null,
   "metadata": {},
   "outputs": [],
   "source": []
  },
  {
   "cell_type": "code",
   "execution_count": null,
   "metadata": {},
   "outputs": [],
   "source": [
    "\n",
    "\n",
    "df['value'] = df['OBS_VALUE']\n",
    "df = df[[\"date\", \"value\"]]\n",
    "\n",
    "df\n",
    "\n",
    "df"
   ]
  },
  {
   "cell_type": "code",
   "execution_count": null,
   "metadata": {},
   "outputs": [],
   "source": []
  },
  {
   "cell_type": "code",
   "execution_count": null,
   "metadata": {},
   "outputs": [],
   "source": []
  },
  {
   "cell_type": "code",
   "execution_count": null,
   "metadata": {},
   "outputs": [],
   "source": []
  },
  {
   "cell_type": "markdown",
   "metadata": {},
   "source": []
  }
 ],
 "metadata": {
  "kernelspec": {
   "display_name": "base",
   "language": "python",
   "name": "python3"
  },
  "language_info": {
   "codemirror_mode": {
    "name": "ipython",
    "version": 3
   },
   "file_extension": ".py",
   "mimetype": "text/x-python",
   "name": "python",
   "nbconvert_exporter": "python",
   "pygments_lexer": "ipython3",
   "version": "3.11.4"
  }
 },
 "nbformat": 4,
 "nbformat_minor": 2
}
