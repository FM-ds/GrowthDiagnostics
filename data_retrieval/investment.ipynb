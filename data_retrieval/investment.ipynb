{
 "cells": [
  {
   "cell_type": "code",
   "execution_count": 42,
   "metadata": {},
   "outputs": [],
   "source": [
    "import pandas as pd \n",
    "import numpy as np\n",
    "import requests\n",
    "import boto3\n",
    "import os\n",
    "import json\n",
    "\n",
    "charts_path = \"/Users/finn/Documents/GitHub/GrowthDiagnostics/charts\""
   ]
  },
  {
   "cell_type": "code",
   "execution_count": 36,
   "metadata": {},
   "outputs": [],
   "source": [
    "def parse_quarters(df):\n",
    "    df['quarter'] = pd.to_numeric(df.quarter.str.replace('Q', ''))\n",
    "    df['month'] = (df.quarter-1)*3+1\n",
    "    df['date'] = pd.to_datetime(df.year.astype(str) + '-' + df.month.astype(str) + '-01')\n",
    "    return df\n",
    "\n",
    "def parse_years(df):\n",
    "    df['date'] = pd.to_datetime(df.year.astype(str) + '-01-01')\n",
    "    return df\n",
    "\n",
    "def clean_ons_series(dataset_id, series_id, date_parser, key):\n",
    "    url = f'https://api.ons.gov.uk/timeseries/{series_id}/dataset/{dataset_id}/data'\n",
    "    req = requests.get(url)\n",
    "    data = req.json()\n",
    "    data = data[key]\n",
    "    df = pd.DataFrame(data)\n",
    "    df = date_parser(df)\n",
    "    df = df[['date', 'value']]\n",
    "    df = df.dropna()\n",
    "    return df"
   ]
  },
  {
   "cell_type": "code",
   "execution_count": 125,
   "metadata": {},
   "outputs": [],
   "source": [
    "def upload_series(df, name, bucket=\"eco-temp-cache\"):\n",
    "    csv = df.to_csv(index=False, date_format='%Y-%m-%d')\n",
    "    s3 = boto3.client('s3')\n",
    "    res = s3.put_object(Bucket=bucket, Key=f\"gd/{name}.csv\", Body=csv)\n",
    "    return f\"https://eco-temp-cache.s3.eu-west-2.amazonaws.com/gd/{name}.csv\"\n",
    "\n",
    "def upload_description(description, name, bucket=\"eco-temp-cache\"):\n",
    "    s3 = boto3.client('s3')\n",
    "    res = s3.put_object(Bucket=bucket, Key=f\"gd/descriptions/{name}.txt\", Body=json.dumps(description))\n",
    "    return f\"https://eco-temp-cache.s3.eu-west-2.amazonaws.com/gd/descriptions/{name}.txt\"\n"
   ]
  },
  {
   "cell_type": "code",
   "execution_count": 48,
   "metadata": {},
   "outputs": [],
   "source": [
    "def prepare_spec(data_url, path, title, filter=None, parent_path=\"charts\"):\n",
    "    spec = {\n",
    "        \"$schema\": \"https://vega.github.io/schema/vega-lite/v5.json\",\n",
    "        \"title\": {\"text\": title},\n",
    "        \"transform\": [{\"filter\": \"datum.value>0\"}],\n",
    "        \"data\": {\n",
    "            \"url\": data_url,\n",
    "        },\n",
    "        \"mark\": {\"type\": \"line\"},\n",
    "        \"encoding\": {\n",
    "            \"x\": {\n",
    "                \"field\": \"date\",\n",
    "                \"type\": \"temporal\",\n",
    "                \"axis\": {\"title\": \"\", \"titleColor\": \"#122B39\"}\n",
    "            },\n",
    "            \"y\": {\n",
    "                \"field\": \"value\",\n",
    "                \"type\": \"quantitative\",\n",
    "                \"axis\": {\"title\": \"\", \"titleColor\": \"#122B39\"}\n",
    "            }\n",
    "        }\n",
    "    }\n",
    "    if filter:\n",
    "        spec['transform'].append({\"filter\": filter})\n",
    "    with open(f\"{parent_path}/{path}.json\", \"w\") as f:\n",
    "        f.write(json.dumps(spec))"
   ]
  },
  {
   "cell_type": "code",
   "execution_count": 187,
   "metadata": {},
   "outputs": [],
   "source": [
    "def get_stats(df):\n",
    "    # get the most recent value and it's date\n",
    "    latest = df.iloc[-1]\n",
    "    latest_date = latest.date\n",
    "    latest_value = latest.value\n",
    "    # get the as close to 1 year ago as possible\n",
    "    year_ago = df[df.date<=df.date.max()-pd.DateOffset(years=1)].iloc[-1]\n",
    "    year_ago_date = year_ago.date\n",
    "    year_ago_value = year_ago.value\n",
    "    # get the average for the last 10 years (or as many as we have)\n",
    "    avg = df[df.date>df.date.max()-pd.DateOffset(years=10)].value.mean()\n",
    "    avg_year_count = df.iloc[-1].date.year-df[df.date>df.date.max()-pd.DateOffset(years=10)].iloc[0].date.year\n",
    "    return {\n",
    "        'latest': {'date': latest_date, 'value': latest_value},\n",
    "        'latest_date': latest_date,\n",
    "        'year_ago': {'date': year_ago_date, 'value': year_ago_value},\n",
    "        'year_ago_date': year_ago_date,\n",
    "        'avg': avg,\n",
    "        'avg_year_count': avg_year_count\n",
    "    }\n",
    "\n",
    "def human_change(val1, val2, date1, date2, date_format=\"%b %Y\", val_format=\".1%\", change_format=\".3f\", change_multiplier=1, change_units=\"\"):\n",
    "    print(f\"val1: {val1}, val2: {val2}, date1: {date1}, date2: {date2}\")\n",
    "    if np.round(val1, 3) == np.round(val2, 3):\n",
    "        return f\"unchanged from {date2.strftime(date_format)}\"\n",
    "    if val1 > val2:\n",
    "        return f\"up {(val1-val2)*change_multiplier:{change_format}}{change_units} from {date2.strftime(date_format)} when it was {val2:{val_format}}\"\n",
    "    if val1 < val2:\n",
    "        return f\"down {(val1-val2)*change_multiplier:{change_format}}{change_units} from {date2.strftime(date_format)} when it was {val2:{val_format}}\"  \n",
    "\n",
    "def temporal_description(data, name=\"it\", preamble=\"\", val_format=\".1%\", change_format=\".3f\", change_multiplier=1, change_units=\"\", date_format=\"%b %Y\"):\n",
    "    if len(preamble)>0 and preamble[-1]!=\" \":\n",
    "        preamble += \" \"\n",
    "    stats = get_stats(data)\n",
    "    return f\"{preamble}In {stats['latest']['date'].strftime('%B %Y')}, {name} was {stats['latest']['value']:.1%}. This is {human_change(stats['latest']['value'], stats['year_ago']['value'], stats['latest']['date'], stats['year_ago']['date'], date_format, val_format, change_format, change_multiplier, change_units)}. The average for the last {stats['avg_year_count']} years is {stats['avg']:.1%}.\"\n",
    "    "
   ]
  },
  {
   "cell_type": "markdown",
   "metadata": {},
   "source": [
    "# GDP Data"
   ]
  },
  {
   "cell_type": "code",
   "execution_count": 182,
   "metadata": {},
   "outputs": [],
   "source": [
    "gdp_cvm_sa_ids = {\n",
    "    # Gross Domestic Product: chained volume measures: Seasonally adjusted £m\n",
    "    # from Quarterly National Accounts\n",
    "    \"dataset_id\" : \"qna\",\n",
    "    \"series_id\" : \"ABMI\",\n",
    "}\n",
    "\n",
    "gdp_cvm_sa = clean_ons_series(**gdp_cvm_sa_ids, date_parser=parse_quarters, key='quarters')\n",
    "\n",
    "gdp_sa_cp_ids = {\n",
    "    # Gross Domestic Product: chained volume measures: Seasonally adjusted £m\n",
    "    # from Quarterly National Accounts\n",
    "    \"dataset_id\" : \"qna\",\n",
    "    \"series_id\" : \"YBHA\",\n",
    "}\n",
    "\n",
    "gdp_sa_cp = clean_ons_series(**gdp_sa_cp_ids, date_parser=parse_quarters, key='quarters')"
   ]
  },
  {
   "cell_type": "markdown",
   "metadata": {},
   "source": [
    "# GFCF (% of GDP)"
   ]
  },
  {
   "cell_type": "code",
   "execution_count": 183,
   "metadata": {},
   "outputs": [],
   "source": [
    "# Then get GFCF data\n",
    "gfcf_ids = {\n",
    "    # Total Gross Fixed Capital Formation CVM SA £m\n",
    "    # from Business investment time series (CXNV)\n",
    "    \"dataset_id\": 'cxnv',\n",
    "    \"series_id\" : 'npqt'\n",
    "}\n",
    "\n",
    "gfcf = clean_ons_series(gfcf_ids['dataset_id'], gfcf_ids['series_id'], parse_quarters, 'quarters')"
   ]
  },
  {
   "cell_type": "code",
   "execution_count": 174,
   "metadata": {},
   "outputs": [],
   "source": [
    "gfcf_gdp_ratio = gfcf.merge(gdp_cvm_sa, on='date', suffixes=('_gfcf', '_gdp'))\n",
    "# force numerics\n",
    "gfcf_gdp_ratio['value_gfcf'] = pd.to_numeric(gfcf_gdp_ratio.value_gfcf, errors='coerce')\n",
    "gfcf_gdp_ratio['value_gdp'] = pd.to_numeric(gfcf_gdp_ratio.value_gdp, errors='coerce')\n",
    "gfcf_gdp_ratio = gfcf_gdp_ratio.dropna()\n",
    "gfcf_gdp_ratio['value'] = gfcf_gdp_ratio.value_gfcf / gfcf_gdp_ratio.value_gdp\n",
    "gfcf_gdp_ratio = gfcf_gdp_ratio[['date', 'value']]\n",
    "gfcf_gdp_url = upload_series(gfcf_gdp_ratio, 'gfcf_gdp_ratio')\n",
    "\n",
    "# prepare the spec\n",
    "prepare_spec(gfcf_gdp_url, \"investment_gfcf_gdp\", \"GFCF, % of GDP, SA\", parent_path=charts_path)"
   ]
  },
  {
   "cell_type": "code",
   "execution_count": 189,
   "metadata": {},
   "outputs": [
    {
     "name": "stdout",
     "output_type": "stream",
     "text": [
      "val1: 0.18798565083583355, val2: 0.18695380169003165, date1: 2023-07-01 00:00:00, date2: 2022-07-01 00:00:00\n",
      "Gross Fixed Capital Formation as a percentage of GDP measures the proportion of GDP that is invested in fixed assets and is a primary indicator of investment. In July 2023, the ratio of Gross Fixed Capital Formation to GDP was 18.8%. This is up 0.10pp from Jul 2022 when it was 18.7%. The average for the last 10 years is 18.1%.\n"
     ]
    }
   ],
   "source": [
    "stats = get_stats(gfcf_gdp_ratio)\n",
    "description = temporal_description(gfcf_gdp_ratio, \n",
    "                                   \"the ratio of Gross Fixed Capital Formation to GDP\", \n",
    "                                   \"Gross Fixed Capital Formation as a percentage of GDP measures the proportion of GDP that is invested in fixed assets and is a primary indicator of investment.\", \n",
    "                                   val_format=\".1%\",\n",
    "                                   change_format=\".2f\",\n",
    "                                   change_multiplier=100,\n",
    "                                   change_units=\"pp\")\n",
    "description_url = upload_description(description, \"investment_gfcf_gdp\")\n",
    "print(description)"
   ]
  },
  {
   "cell_type": "markdown",
   "metadata": {},
   "source": [
    "# Gov GFCF (% of GDP)"
   ]
  },
  {
   "cell_type": "code",
   "execution_count": 176,
   "metadata": {},
   "outputs": [],
   "source": [
    "central_gov_gfcf_ids = {\n",
    "    # Central Government: Total gross fixed capital formation CP SA £m\n",
    "    # UK Economic Accounts time series (UKEA)\n",
    "    \"dataset_id\": 'ukea',\n",
    "    \"series_id\" : 'RNCZ'\n",
    "}\n",
    "\n",
    "central_gov_gfcf = clean_ons_series(central_gov_gfcf_ids['dataset_id'], central_gov_gfcf_ids['series_id'], parse_quarters, 'quarters')\n",
    "gov_gfcf_gdp_ratio = central_gov_gfcf.merge(gdp_sa_cp, on='date', suffixes=('_gfcf', '_gdp'))\n",
    "# force numerics\n",
    "gov_gfcf_gdp_ratio['value_gfcf'] = pd.to_numeric(gov_gfcf_gdp_ratio.value_gfcf, errors='coerce')\n",
    "gov_gfcf_gdp_ratio['value_gdp'] = pd.to_numeric(gov_gfcf_gdp_ratio.value_gdp, errors='coerce')\n",
    "gov_gfcf_gdp_ratio = gov_gfcf_gdp_ratio.dropna()\n",
    "gov_gfcf_gdp_ratio['value'] = gov_gfcf_gdp_ratio.value_gfcf / gov_gfcf_gdp_ratio.value_gdp\n",
    "gov_gfcf_gdp_ratio = gov_gfcf_gdp_ratio[['date', 'value']]\n",
    "gov_gfcf_gdp_url = upload_series(gov_gfcf_gdp_ratio, 'gov_gfcf_gdp_ratio')\n",
    "\n",
    "# prepare the spec\n",
    "prepare_spec(gov_gfcf_gdp_url, \"investment_gov_gfcf_gdp\", \"Central Government GFCF, % of GDP, SA\", \n",
    "             parent_path=charts_path)\n"
   ]
  },
  {
   "cell_type": "code",
   "execution_count": 191,
   "metadata": {},
   "outputs": [
    {
     "name": "stdout",
     "output_type": "stream",
     "text": [
      "val1: 0.02404393436115376, val2: 0.02196725211116838, date1: 2023-07-01 00:00:00, date2: 2022-07-01 00:00:00\n",
      "In July 2023, the ratio of Central Government Gross Fixed Capital Formation to GDP was 2.4%. This is up 0.21pp from Jul 2022 when it was 2.2%. The average for the last 10 years is 1.9%.\n"
     ]
    }
   ],
   "source": [
    "stats = get_stats(gov_gfcf_gdp_ratio)\n",
    "description = temporal_description(gov_gfcf_gdp_ratio,\n",
    "                                   \"the ratio of Central Government Gross Fixed Capital Formation to GDP\",\n",
    "                                   \"\",\n",
    "                                   val_format=\".1%\",\n",
    "                                   change_format=\".2f\",\n",
    "                                   change_multiplier=100,\n",
    "                                   change_units=\"pp\")\n",
    "# upload_description(description, \"investment_gov_gfcf_gdp\")\n",
    "print(description)"
   ]
  },
  {
   "cell_type": "markdown",
   "metadata": {},
   "source": [
    "# Business GFCF (% of GDP)"
   ]
  },
  {
   "cell_type": "code",
   "execution_count": 61,
   "metadata": {},
   "outputs": [],
   "source": [
    "bus_gfcf_ids = {\n",
    "    # Business Investment: CP SA: £m\n",
    "    # UK Economic Accounts time series (UKEA)\n",
    "    \"dataset_id\": 'ukea',\n",
    "    \"series_id\" : 'npek'\n",
    "}\n",
    "\n",
    "bus_gfcf = clean_ons_series(bus_gfcf_ids['dataset_id'], bus_gfcf_ids['series_id'], parse_quarters, 'quarters')\n",
    "bus_gfcf_gdp_ratio = bus_gfcf.merge(gdp_sa_cp, on='date', suffixes=('_gfcf', '_gdp'))\n",
    "# force numerics\n",
    "bus_gfcf_gdp_ratio['value_gfcf'] = pd.to_numeric(bus_gfcf_gdp_ratio.value_gfcf, errors='coerce')\n",
    "bus_gfcf_gdp_ratio['value_gdp'] = pd.to_numeric(bus_gfcf_gdp_ratio.value_gdp, errors='coerce')\n",
    "bus_gfcf_gdp_ratio = bus_gfcf_gdp_ratio.dropna()\n",
    "bus_gfcf_gdp_ratio['value'] = bus_gfcf_gdp_ratio.value_gfcf / bus_gfcf_gdp_ratio.value_gdp\n",
    "bus_gfcf_gdp_ratio = bus_gfcf_gdp_ratio[['date', 'value']]\n",
    "bus_gfcf_gdp_url = upload_series(bus_gfcf_gdp_ratio, 'bus_gfcf_gdp_ratio')\n",
    "\n",
    "# prepare the spec\n",
    "prepare_spec(bus_gfcf_gdp_url, \"investment_bus_gfcf_gdp\", \"Business GFCF, % of GDP, SA\", parent_path=charts_path)"
   ]
  },
  {
   "cell_type": "code",
   "execution_count": 192,
   "metadata": {},
   "outputs": [
    {
     "name": "stdout",
     "output_type": "stream",
     "text": [
      "val1: 0.09603709260307879, val2: 0.09911271458589382, date1: 2023-07-01 00:00:00, date2: 2022-07-01 00:00:00\n",
      "In July 2023, the ratio of Business Gross Fixed Capital Formation to GDP was 9.6%. This is down -0.31pp from Jul 2022 when it was 9.9%. The average for the last 10 years is 10.0%.\n"
     ]
    }
   ],
   "source": [
    "stats = get_stats(bus_gfcf_gdp_ratio)\n",
    "description = temporal_description(bus_gfcf_gdp_ratio, \"the ratio of Business Gross Fixed Capital Formation to GDP\", \n",
    "                                   \"\",\n",
    "                                                                      val_format=\".1%\",\n",
    "                                   change_format=\".2f\",\n",
    "                                   change_multiplier=100,\n",
    "                                   change_units=\"pp\")\n",
    "\n",
    "upload_description(description, \"investment_bus_gfcf_gdp\")\n",
    "print(description)"
   ]
  },
  {
   "cell_type": "markdown",
   "metadata": {},
   "source": [
    "# R&D (% of GDP)"
   ]
  },
  {
   "cell_type": "code",
   "execution_count": 201,
   "metadata": {},
   "outputs": [],
   "source": [
    "rd_gdp_ids = {\n",
    "    # Gross Expenditure on R&D (GERD): Total as a percentage of GDP\n",
    "    # from GERD\n",
    "    \"dataset_id\": 'gerd',\n",
    "    \"series_id\" : 'GLBH'\n",
    "}\n",
    "\n",
    "rd_gdp = clean_ons_series(rd_gdp_ids['dataset_id'], rd_gdp_ids['series_id'], parse_years, 'years')\n",
    "rd_gdp['value'] = pd.to_numeric(rd_gdp.value, errors='coerce')/100\n",
    "rd_gdp_url = upload_series(rd_gdp, 'rd_gdp')\n",
    "\n",
    "\n",
    "# prepare the spec\n",
    "prepare_spec(rd_gdp_url, \"investment_rd_gdp\", \"R&D, % of GDP\", parent_path=charts_path)\n"
   ]
  },
  {
   "cell_type": "code",
   "execution_count": 202,
   "metadata": {},
   "outputs": [
    {
     "name": "stdout",
     "output_type": "stream",
     "text": [
      "val1: 0.0174, val2: 0.0172, date1: 2019-01-01 00:00:00, date2: 2018-01-01 00:00:00\n",
      "In January 2019, the ratio of Gross Expenditure on R&D to GDP was 1.7%. This is unchanged from Jan 2018. The average for the last 9 years is 1.6%.\n"
     ]
    }
   ],
   "source": [
    "stats = get_stats(rd_gdp)\n",
    "description = temporal_description(rd_gdp, \"the ratio of Gross Expenditure on R&D to GDP\", \n",
    "                                   \"\", \n",
    "                                   val_format=\".1%\",\n",
    "                                   change_format=\".2f\",\n",
    "                                   change_multiplier=100,\n",
    "                                   change_units=\"pp\")\n",
    "upload_description(description, \"investment_rd_gdp\")\n",
    "print(description)"
   ]
  },
  {
   "cell_type": "code",
   "execution_count": 22,
   "metadata": {},
   "outputs": [
    {
     "data": {
      "text/plain": [
       "dict_keys(['\\n    Total Gross Fixed Capital Formation CVM SA £m\\n    from Business investment time series (CXNV)\\n    dataset_id', 'series_id'])"
      ]
     },
     "execution_count": 22,
     "metadata": {},
     "output_type": "execute_result"
    }
   ],
   "source": [
    "gfcf_ids.keys()"
   ]
  },
  {
   "cell_type": "code",
   "execution_count": 19,
   "metadata": {},
   "outputs": [
    {
     "data": {
      "text/html": [
       "<div>\n",
       "<style scoped>\n",
       "    .dataframe tbody tr th:only-of-type {\n",
       "        vertical-align: middle;\n",
       "    }\n",
       "\n",
       "    .dataframe tbody tr th {\n",
       "        vertical-align: top;\n",
       "    }\n",
       "\n",
       "    .dataframe thead th {\n",
       "        text-align: right;\n",
       "    }\n",
       "</style>\n",
       "<table border=\"1\" class=\"dataframe\">\n",
       "  <thead>\n",
       "    <tr style=\"text-align: right;\">\n",
       "      <th></th>\n",
       "      <th>date</th>\n",
       "      <th>value</th>\n",
       "    </tr>\n",
       "  </thead>\n",
       "  <tbody>\n",
       "    <tr>\n",
       "      <th>0</th>\n",
       "      <td>1955-01-01</td>\n",
       "      <td>14969</td>\n",
       "    </tr>\n",
       "    <tr>\n",
       "      <th>1</th>\n",
       "      <td>1955-04-01</td>\n",
       "      <td>15324</td>\n",
       "    </tr>\n",
       "    <tr>\n",
       "      <th>2</th>\n",
       "      <td>1955-07-01</td>\n",
       "      <td>15861</td>\n",
       "    </tr>\n",
       "    <tr>\n",
       "      <th>3</th>\n",
       "      <td>1955-10-01</td>\n",
       "      <td>16205</td>\n",
       "    </tr>\n",
       "    <tr>\n",
       "      <th>4</th>\n",
       "      <td>1956-01-01</td>\n",
       "      <td>16461</td>\n",
       "    </tr>\n",
       "    <tr>\n",
       "      <th>...</th>\n",
       "      <td>...</td>\n",
       "      <td>...</td>\n",
       "    </tr>\n",
       "    <tr>\n",
       "      <th>271</th>\n",
       "      <td>2022-10-01</td>\n",
       "      <td>106689</td>\n",
       "    </tr>\n",
       "    <tr>\n",
       "      <th>272</th>\n",
       "      <td>2023-01-01</td>\n",
       "      <td>109400</td>\n",
       "    </tr>\n",
       "    <tr>\n",
       "      <th>273</th>\n",
       "      <td>2023-04-01</td>\n",
       "      <td>108454</td>\n",
       "    </tr>\n",
       "    <tr>\n",
       "      <th>274</th>\n",
       "      <td>2023-07-01</td>\n",
       "      <td>106955</td>\n",
       "    </tr>\n",
       "    <tr>\n",
       "      <th>275</th>\n",
       "      <td>2023-10-01</td>\n",
       "      <td>108474</td>\n",
       "    </tr>\n",
       "  </tbody>\n",
       "</table>\n",
       "<p>276 rows × 2 columns</p>\n",
       "</div>"
      ],
      "text/plain": [
       "          date   value\n",
       "0   1955-01-01   14969\n",
       "1   1955-04-01   15324\n",
       "2   1955-07-01   15861\n",
       "3   1955-10-01   16205\n",
       "4   1956-01-01   16461\n",
       "..         ...     ...\n",
       "271 2022-10-01  106689\n",
       "272 2023-01-01  109400\n",
       "273 2023-04-01  108454\n",
       "274 2023-07-01  106955\n",
       "275 2023-10-01  108474\n",
       "\n",
       "[276 rows x 2 columns]"
      ]
     },
     "execution_count": 19,
     "metadata": {},
     "output_type": "execute_result"
    }
   ],
   "source": [
    "gfcf"
   ]
  },
  {
   "cell_type": "code",
   "execution_count": null,
   "metadata": {},
   "outputs": [],
   "source": []
  }
 ],
 "metadata": {
  "kernelspec": {
   "display_name": "base",
   "language": "python",
   "name": "python3"
  },
  "language_info": {
   "codemirror_mode": {
    "name": "ipython",
    "version": 3
   },
   "file_extension": ".py",
   "mimetype": "text/x-python",
   "name": "python",
   "nbconvert_exporter": "python",
   "pygments_lexer": "ipython3",
   "version": "3.11.4"
  }
 },
 "nbformat": 4,
 "nbformat_minor": 2
}
