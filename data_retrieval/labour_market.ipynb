{
 "cells": [
  {
   "cell_type": "code",
   "execution_count": 29,
   "metadata": {},
   "outputs": [],
   "source": [
    "import pandas as pd \n",
    "import numpy as np\n",
    "import requests\n",
    "import boto3\n",
    "import os\n",
    "import json\n",
    "from io import BytesIO\n",
    "import base64\n",
    "from bs4 import BeautifulSoup\n",
    "import json5\n",
    "\n",
    "charts_path = \"/Users/finn/Documents/GitHub/GrowthDiagnostics/charts\""
   ]
  },
  {
   "cell_type": "code",
   "execution_count": 30,
   "metadata": {},
   "outputs": [],
   "source": [
    "def upload_series(df, name, bucket=\"eco-temp-cache\"):\n",
    "    csv = df.to_csv(index=False, date_format='%Y-%m-%d')\n",
    "    s3 = boto3.client('s3')\n",
    "    res = s3.put_object(Bucket=bucket, Key=f\"gd/{name}.csv\", Body=csv)\n",
    "    return f\"https://eco-temp-cache.s3.eu-west-2.amazonaws.com/gd/{name}.csv\"\n",
    "\n",
    "def prepare_spec(data_url, path, title, filter=None, parent_path=\"charts\", multi_series=False, yAxisExpr=None):\n",
    "    spec = {\n",
    "        \"$schema\": \"https://vega.github.io/schema/vega-lite/v5.json\",\n",
    "        \"title\": {\"text\": title},\n",
    "        \"data\": {\n",
    "            \"url\": data_url,\n",
    "        },\n",
    "        \"mark\": {\"type\": \"line\"},\n",
    "        \"encoding\": {\n",
    "            \"x\": {\n",
    "                \"field\": \"date\",\n",
    "                \"type\": \"temporal\",\n",
    "                \"axis\": {\"title\": \"\", \"titleColor\": \"#122B39\"}\n",
    "            },\n",
    "            \"y\": {\n",
    "                \"field\": \"value\",\n",
    "                \"type\": \"quantitative\",\n",
    "                \"axis\": {\"title\": \"\", \"titleColor\": \"#122B39\"}\n",
    "            }\n",
    "        }\n",
    "    }\n",
    "    if filter:\n",
    "        spec['transform'].append({\"filter\": filter})\n",
    "    if multi_series:\n",
    "        spec['encoding']['color'] = {\"field\": \"series\", \"type\": \"nominal\"}\n",
    "    if yAxisExpr:\n",
    "        spec['encoding']['y']['axis']['labelExpr'] = yAxisExpr\n",
    "    with open(f\"{parent_path}/{path}.json\", \"w\") as f:\n",
    "        f.write(json.dumps(spec))\n",
    "\n",
    "def get_stats(df):\n",
    "    df = df.sort_values('date')\n",
    "    # get the most recent value and it's date\n",
    "    latest = df.iloc[-1]\n",
    "    latest_date = latest.date\n",
    "    latest_value = latest.value\n",
    "    # get the as close to 1 year ago as possible\n",
    "    year_ago = df[df.date<=df.date.max()-pd.DateOffset(years=1)].iloc[-1]\n",
    "    year_ago_date = year_ago.date\n",
    "    year_ago_value = year_ago.value\n",
    "    # get the average for the last 10 years (or as many as we have)\n",
    "    avg = df[df.date>df.date.max()-pd.DateOffset(years=10)].value.mean()\n",
    "    avg_year_count = df.iloc[-1].date.year-df[df.date>df.date.max()-pd.DateOffset(years=10)].iloc[0].date.year\n",
    "    return {\n",
    "        'latest': {'date': latest_date, 'value': latest_value},\n",
    "        'latest_date': latest_date,\n",
    "        'year_ago': {'date': year_ago_date, 'value': year_ago_value},\n",
    "        'year_ago_date': year_ago_date,\n",
    "        'avg': avg,\n",
    "        'avg_year_count': avg_year_count\n",
    "    }\n",
    "\n",
    "def human_change(val1, val2, date1, date2, date_format=\"%b %Y\", val_format=\".1%\", change_format=\".3f\", change_multiplier=1, change_suffix=\"\", val_suffix=\"\", val_multiplier=1):\n",
    "    print(f\"val1: {val1}, val2: {val2}, date1: {date1}, date2: {date2}\")\n",
    "    if np.round(val1, 3) == np.round(val2, 3):\n",
    "        return f\"unchanged from {date2.strftime(date_format)}\"\n",
    "    if val1 > val2:\n",
    "        return f\"up {(val1-val2)*change_multiplier:{change_format}}{change_suffix} from {date2.strftime(date_format)} when it was {val2*val_multiplier:{val_format}}{val_suffix}\"\n",
    "    if val1 < val2:\n",
    "        return f\"down {(val1-val2)*change_multiplier:{change_format}}{change_suffix} from {date2.strftime(date_format)} when it was {val2*val_multiplier:{val_format}}{val_suffix}\"  \n",
    "\n",
    "def temporal_description(data, name=\"it\", preamble=\"\", val_format=\".1%\", change_format=\".3f\", val_multiplier=1, change_multiplier=1, change_suffix=\"\", date_format=\"%b %Y\", val_suffix=\"\"):\n",
    "    if len(preamble)>0 and preamble[-1]!=\" \":\n",
    "        preamble += \" \"\n",
    "    stats = get_stats(data)\n",
    "    return f\"{preamble}In {stats['latest']['date'].strftime('%B %Y')}, {name} was {stats['latest']['value']*val_multiplier:{val_format}}{val_suffix} . This is {human_change(stats['latest']['value'], stats['year_ago']['value'], stats['latest']['date'], stats['year_ago']['date'], date_format, val_format, change_format, change_multiplier, change_suffix, val_suffix=val_suffix, val_multiplier=val_multiplier)}. The average for the last {stats['avg_year_count']} years is {stats['avg']*val_multiplier:{val_format}}{val_suffix}.\"\n",
    "\n",
    "def upload_description(description, name, bucket=\"eco-temp-cache\"):\n",
    "    s3 = boto3.client('s3')\n",
    "    res = s3.put_object(Bucket=bucket, Key=f\"gd/descriptions/{name}.txt\", Body=json.dumps(description))\n",
    "    return f\"https://eco-temp-cache.s3.eu-west-2.amazonaws.com/gd/descriptions/{name}.txt\"\n",
    "\n",
    "def short_description(stats, var_name, date_format=\"%b %Y\", val_format=\".1%\", val_multiplier=1, val_suffix=\"\"):\n",
    "    direction = 'unchanged' if np.round(stats['latest']['value'], 3) == np.round(stats['year_ago']['value'], 3) else \"up\" if np.round(stats['latest']['value'], 3) > np.round(stats['year_ago']['value'], 3) else \"down\"\n",
    "    desc = f\"{var_name} is {stats['latest']['value']*val_multiplier:{val_format}}{val_suffix}. It is {direction} from {stats['year_ago_date'].strftime(date_format)} ({stats['year_ago']['value']*val_multiplier:{val_format}}{val_suffix}). The UK historical average (past {stats['avg_year_count']} years) is {stats['avg']*val_multiplier:{val_format}}{val_suffix}.\"\n",
    "    return desc\n"
   ]
  },
  {
   "cell_type": "code",
   "execution_count": 31,
   "metadata": {},
   "outputs": [],
   "source": [
    "def parse_quarters(df):\n",
    "    df['quarter'] = pd.to_numeric(df.quarter.str.replace('Q', ''))\n",
    "    df['month'] = (df.quarter-1)*3+1\n",
    "    df['date'] = pd.to_datetime(df.year.astype(str) + '-' + df.month.astype(str) + '-01')\n",
    "    return df\n",
    "\n",
    "def parse_years(df):\n",
    "    df['date'] = pd.to_datetime(df.year.astype(str) + '-01-01')\n",
    "    return df\n",
    "\n",
    "def parse_months(df):\n",
    "    df['date'] = pd.to_datetime(df.date, format='%Y %b', errors='coerce')\n",
    "    return df\n",
    "\n",
    "def clean_ons_series(dataset_id, series_id, date_parser, key):\n",
    "    url = f'https://api.ons.gov.uk/timeseries/{series_id}/dataset/{dataset_id}/data'\n",
    "    req = requests.get(url)\n",
    "    data = req.json()\n",
    "    data = data[key]\n",
    "    df = pd.DataFrame(data)\n",
    "    df = date_parser(df)\n",
    "    df = df[['date', 'value']]\n",
    "    df = df.dropna()\n",
    "    return df"
   ]
  },
  {
   "cell_type": "markdown",
   "metadata": {},
   "source": [
    "# 16-64 Employment"
   ]
  },
  {
   "cell_type": "code",
   "execution_count": 32,
   "metadata": {},
   "outputs": [],
   "source": [
    "curr_acc_ids = {\n",
    "    # Total Gross Fixed Capital Formation CVM SA £m\n",
    "    # from Business investment time series (CXNV)\n",
    "    \"dataset_id\": 'UKEA',\n",
    "    \"series_id\" : 'AA6H'\n",
    "}\n",
    "\n",
    "curr_act = clean_ons_series(curr_acc_ids['dataset_id'], curr_acc_ids['series_id'], parse_quarters, 'quarters')\n",
    "curr_act['value'] = curr_act['value'].astype(float)/100\n",
    "\n",
    "curr_act_url = upload_series(curr_act, 'macro_curr_act')\n",
    "prepare_spec(curr_act_url, \"macro_curr_act\", \"Current Account, % of GDP\", parent_path=charts_path, yAxisExpr=\"format(datum.value, '.0%')\")"
   ]
  },
  {
   "cell_type": "code",
   "execution_count": 33,
   "metadata": {},
   "outputs": [
    {
     "name": "stdout",
     "output_type": "stream",
     "text": [
      "The employment rate is 75.0%. It is down from Oct 2022 (75.2%). The UK historical average (past 9 years) is 74.6%.\n"
     ]
    }
   ],
   "source": [
    "employment_ids = {\n",
    "    #Employment rate (aged 16 to 64, seasonally adjusted): %\n",
    "    \"dataset_id\": 'LMS',\n",
    "    \"series_id\" : 'LF24'\n",
    "}\n",
    "\n",
    "employment = clean_ons_series(employment_ids['dataset_id'], employment_ids['series_id'], parse_quarters, 'quarters')\n",
    "employment['value'] = employment['value'].astype(float)/100\n",
    "employment_url = upload_series(employment, 'labour_employment')\n",
    "prepare_spec(employment_url, \"labour_employment\", \"Employment Rate, 16-64, SA, %\", parent_path=charts_path, yAxisExpr=\"format(datum.value, '.0%')\")\n",
    "\n",
    "stats = get_stats(employment)\n",
    "description = short_description(stats, \"The employment rate\", val_format=\".1%\", val_multiplier=1, val_suffix=\"\")\n",
    "description_url = upload_description(description, \"labour_employment\")\n",
    "print(description)"
   ]
  },
  {
   "cell_type": "markdown",
   "metadata": {},
   "source": [
    "# Unemployment"
   ]
  },
  {
   "cell_type": "code",
   "execution_count": 34,
   "metadata": {},
   "outputs": [
    {
     "name": "stdout",
     "output_type": "stream",
     "text": [
      "The unemployment rate is 3.9%. It is up from Dec 2022 (3.8%). The UK historical average (past 9 years) is 4.6%.\n"
     ]
    }
   ],
   "source": [
    "unemp_ids = {\n",
    "    \"dataset_id\": 'LMS',\n",
    "    \"series_id\" : 'MGSX'\n",
    "}\n",
    "\n",
    "unemp = clean_ons_series(unemp_ids['dataset_id'], unemp_ids['series_id'], parse_months, 'months')\n",
    "unemp['value'] = unemp['value'].astype(float)/100\n",
    "\n",
    "unemp_url = upload_series(unemp, 'labour_unemployment')\n",
    "prepare_spec(unemp_url, \"labour_unemployment\", \"Unemployment Rate, 16+, SA, %\", parent_path=charts_path, yAxisExpr=\"format(datum.value, '.0%')\")\n",
    "stats = get_stats(unemp)\n",
    "description = short_description(stats, \"The unemployment rate\", val_format=\".1%\", val_multiplier=1, val_suffix=\"\")\n",
    "description_url = upload_description(description, \"labour_unemployment\")\n",
    "print(description)"
   ]
  },
  {
   "cell_type": "markdown",
   "metadata": {},
   "source": [
    "# Inactivity"
   ]
  },
  {
   "cell_type": "code",
   "execution_count": 35,
   "metadata": {},
   "outputs": [
    {
     "name": "stdout",
     "output_type": "stream",
     "text": [
      "The inactivity rate is 21.9%. It is up from Oct 2022 (21.7%). The UK historical average (past 9 years) is 21.6%.\n"
     ]
    }
   ],
   "source": [
    "inac_ids = {\n",
    "    \"dataset_id\": 'LMS',\n",
    "    \"series_id\" : 'LF2S'\n",
    "}\n",
    "\n",
    "inac = clean_ons_series(inac_ids['dataset_id'], inac_ids['series_id'], parse_quarters, 'quarters')\n",
    "inac['value'] = inac['value'].astype(float)/100\n",
    "inac_url = upload_series(inac, 'labour_inactivity')\n",
    "\n",
    "prepare_spec(inac_url, \"labour_inactivity\", \"Inactivity Rate, 16-64, SA, %\", parent_path=charts_path, yAxisExpr=\"format(datum.value, '.0%')\")\n",
    "\n",
    "stats = get_stats(inac)\n",
    "\n",
    "description = short_description(stats, \"The inactivity rate\", val_format=\".1%\", val_multiplier=1, val_suffix=\"\")\n",
    "description_url = upload_description(description, \"labour_inactivity\")\n",
    "print(description)\n"
   ]
  },
  {
   "cell_type": "markdown",
   "metadata": {},
   "source": [
    "# Pay Growth"
   ]
  },
  {
   "cell_type": "code",
   "execution_count": 36,
   "metadata": {},
   "outputs": [
    {
     "name": "stdout",
     "output_type": "stream",
     "text": [
      "Real pay growth is 1.4%. It is up from Jan 2023 (-2.8%). The UK historical average (past 10 years) is 0.8%.\n"
     ]
    }
   ],
   "source": [
    "pay_ids = {\n",
    "    #AWE: Whole Economy Real Terms Year on Year Three Month Growth (%): Seasonally Adjusted Total Pay\n",
    "    \"dataset_id\": 'LMS',\n",
    "    \"series_id\" : 'A3WW'\n",
    "}\n",
    "\n",
    "pay = clean_ons_series(pay_ids['dataset_id'], pay_ids['series_id'], parse_months, 'months')\n",
    "pay['value'] = pay['value'].astype(float)/100\n",
    "pay_url = upload_series(pay, 'labour_pay')\n",
    "prepare_spec(pay_url, \"labour_pay\", \"Real Pay Growth, 3m yoy, SA, %\", parent_path=charts_path, yAxisExpr=\"format(datum.value, '.0%')\")\n",
    "\n",
    "stats = get_stats(pay)\n",
    "description = short_description(stats, \"Real pay growth\", val_format=\".1%\", val_multiplier=1, val_suffix=\"\") \n",
    "description_url = upload_description(description, \"labour_pay\")\n",
    "print(description)\n"
   ]
  },
  {
   "cell_type": "markdown",
   "metadata": {},
   "source": [
    "# Productivity"
   ]
  },
  {
   "cell_type": "code",
   "execution_count": 37,
   "metadata": {},
   "outputs": [
    {
     "name": "stdout",
     "output_type": "stream",
     "text": [
      "The productivity index is 103. It is up from Jul 2022 (102). The UK historical average (past 10 years) is 100.\n"
     ]
    }
   ],
   "source": [
    "prod_ids = {\n",
    "    #UK Whole Economy: Output per hour worked SA: Index 2019 = 100\n",
    "    \"dataset_id\": 'PRDY',\n",
    "    \"series_id\" : 'LZVB'\n",
    "}\n",
    "\n",
    "prod = clean_ons_series(prod_ids['dataset_id'], prod_ids['series_id'], parse_quarters, 'quarters')\n",
    "prod['value'] = prod['value'].astype(float)\n",
    "prod_url = upload_series(prod, 'labour_prod')\n",
    "prepare_spec(prod_url, \"labour_prod\", \"Labour Productivity, Index 2019=100\", parent_path=charts_path)\n",
    "\n",
    "stats = get_stats(prod)\n",
    "description = short_description(stats, \"The productivity index\", val_format=\".0f\", val_multiplier=1)\n",
    "description_url = upload_description(description, \"labour_prod\")\n",
    "print(description)\n",
    "\n",
    "\n"
   ]
  },
  {
   "cell_type": "code",
   "execution_count": 38,
   "metadata": {},
   "outputs": [
    {
     "data": {
      "text/plain": [
       "'https://eco-temp-cache.s3.eu-west-2.amazonaws.com/gd/labour_prod.csv'"
      ]
     },
     "execution_count": 38,
     "metadata": {},
     "output_type": "execute_result"
    }
   ],
   "source": [
    "prod_url"
   ]
  },
  {
   "cell_type": "code",
   "execution_count": 39,
   "metadata": {},
   "outputs": [
    {
     "ename": "NameError",
     "evalue": "name 'date_parser' is not defined",
     "output_type": "error",
     "traceback": [
      "\u001b[0;31m---------------------------------------------------------------------------\u001b[0m",
      "\u001b[0;31mNameError\u001b[0m                                 Traceback (most recent call last)",
      "Cell \u001b[0;32mIn[39], line 1\u001b[0m\n\u001b[0;32m----> 1\u001b[0m df \u001b[38;5;241m=\u001b[39m date_parser(df)\n\u001b[1;32m      2\u001b[0m df \u001b[38;5;241m=\u001b[39m df[[\u001b[38;5;124m'\u001b[39m\u001b[38;5;124mdate\u001b[39m\u001b[38;5;124m'\u001b[39m, \u001b[38;5;124m'\u001b[39m\u001b[38;5;124mvalue\u001b[39m\u001b[38;5;124m'\u001b[39m]]\n\u001b[1;32m      3\u001b[0m df \u001b[38;5;241m=\u001b[39m df\u001b[38;5;241m.\u001b[39mdropna()\n",
      "\u001b[0;31mNameError\u001b[0m: name 'date_parser' is not defined"
     ]
    }
   ],
   "source": [
    "\n",
    "df = date_parser(df)\n",
    "df = df[['date', 'value']]\n",
    "df = df.dropna()\n",
    "\n"
   ]
  },
  {
   "cell_type": "code",
   "execution_count": null,
   "metadata": {},
   "outputs": [],
   "source": []
  },
  {
   "cell_type": "code",
   "execution_count": null,
   "metadata": {},
   "outputs": [],
   "source": []
  },
  {
   "cell_type": "code",
   "execution_count": null,
   "metadata": {},
   "outputs": [],
   "source": []
  }
 ],
 "metadata": {
  "kernelspec": {
   "display_name": "base",
   "language": "python",
   "name": "python3"
  },
  "language_info": {
   "codemirror_mode": {
    "name": "ipython",
    "version": 3
   },
   "file_extension": ".py",
   "mimetype": "text/x-python",
   "name": "python",
   "nbconvert_exporter": "python",
   "pygments_lexer": "ipython3",
   "version": "3.11.4"
  }
 },
 "nbformat": 4,
 "nbformat_minor": 2
}
