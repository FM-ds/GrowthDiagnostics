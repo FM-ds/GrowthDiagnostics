{
 "cells": [
  {
   "cell_type": "code",
   "execution_count": 2,
   "metadata": {},
   "outputs": [],
   "source": [
    "import pandas as pd \n",
    "import numpy as np\n",
    "import requests\n",
    "import boto3\n",
    "import os\n",
    "import json\n",
    "from io import BytesIO\n",
    "import base64\n",
    "from bs4 import BeautifulSoup\n",
    "import json5\n",
    "\n",
    "charts_path = \"/Users/finn/Documents/GitHub/GrowthDiagnostics/charts\""
   ]
  },
  {
   "cell_type": "code",
   "execution_count": 10,
   "metadata": {},
   "outputs": [],
   "source": [
    "def upload_series(df, name, bucket=\"eco-temp-cache\"):\n",
    "    csv = df.to_csv(index=False, date_format='%Y-%m-%d')\n",
    "    s3 = boto3.client('s3')\n",
    "    res = s3.put_object(Bucket=bucket, Key=f\"gd/{name}.csv\", Body=csv)\n",
    "    return f\"https://eco-temp-cache.s3.eu-west-2.amazonaws.com/gd/{name}.csv\"\n",
    "\n",
    "def prepare_spec(data_url, path, title, filter=None, parent_path=\"charts\", multi_series=False, yAxisExpr=None):\n",
    "    spec = {\n",
    "        \"$schema\": \"https://vega.github.io/schema/vega-lite/v5.json\",\n",
    "        \"title\": {\"text\": title},\n",
    "        \"data\": {\n",
    "            \"url\": data_url,\n",
    "        },\n",
    "        \"mark\": {\"type\": \"line\"},\n",
    "        \"encoding\": {\n",
    "            \"x\": {\n",
    "                \"field\": \"date\",\n",
    "                \"type\": \"temporal\",\n",
    "                \"axis\": {\"title\": \"\", \"titleColor\": \"#122B39\"}\n",
    "            },\n",
    "            \"y\": {\n",
    "                \"field\": \"value\",\n",
    "                \"type\": \"quantitative\",\n",
    "                \"axis\": {\"title\": \"\", \"titleColor\": \"#122B39\"}\n",
    "            }\n",
    "        }\n",
    "    }\n",
    "    if filter:\n",
    "        spec['transform'].append({\"filter\": filter})\n",
    "    if multi_series:\n",
    "        spec['encoding']['color'] = {\"field\": \"series\", \"type\": \"nominal\"}\n",
    "    if yAxisExpr:\n",
    "        spec['encoding']['y']['axis']['labelExpr'] = yAxisExpr\n",
    "    with open(f\"{parent_path}/{path}.json\", \"w\") as f:\n",
    "        f.write(json.dumps(spec))\n",
    "\n",
    "def get_stats(df):\n",
    "    df = df.sort_values('date')\n",
    "    # get the most recent value and it's date\n",
    "    latest = df.iloc[-1]\n",
    "    latest_date = latest.date\n",
    "    latest_value = latest.value\n",
    "    # get the as close to 1 year ago as possible\n",
    "    year_ago = df[df.date<=df.date.max()-pd.DateOffset(years=1)].iloc[-1]\n",
    "    year_ago_date = year_ago.date\n",
    "    year_ago_value = year_ago.value\n",
    "    # get the average for the last 10 years (or as many as we have)\n",
    "    avg = df[df.date>df.date.max()-pd.DateOffset(years=10)].value.mean()\n",
    "    avg_year_count = df.iloc[-1].date.year-df[df.date>df.date.max()-pd.DateOffset(years=10)].iloc[0].date.year\n",
    "    return {\n",
    "        'latest': {'date': latest_date, 'value': latest_value},\n",
    "        'latest_date': latest_date,\n",
    "        'year_ago': {'date': year_ago_date, 'value': year_ago_value},\n",
    "        'year_ago_date': year_ago_date,\n",
    "        'avg': avg,\n",
    "        'avg_year_count': avg_year_count\n",
    "    }\n",
    "\n",
    "def human_change(val1, val2, date1, date2, date_format=\"%b %Y\", val_format=\".1%\", change_format=\".3f\", change_multiplier=1, change_suffix=\"\", val_suffix=\"\", val_multiplier=1):\n",
    "    print(f\"val1: {val1}, val2: {val2}, date1: {date1}, date2: {date2}\")\n",
    "    if np.round(val1, 3) == np.round(val2, 3):\n",
    "        return f\"unchanged from {date2.strftime(date_format)}\"\n",
    "    if val1 > val2:\n",
    "        return f\"up {(val1-val2)*change_multiplier:{change_format}}{change_suffix} from {date2.strftime(date_format)} when it was {val2*val_multiplier:{val_format}}{val_suffix}\"\n",
    "    if val1 < val2:\n",
    "        return f\"down {(val1-val2)*change_multiplier:{change_format}}{change_suffix} from {date2.strftime(date_format)} when it was {val2*val_multiplier:{val_format}}{val_suffix}\"  \n",
    "\n",
    "def temporal_description(data, name=\"it\", preamble=\"\", val_format=\".1%\", change_format=\".3f\", val_multiplier=1, change_multiplier=1, change_suffix=\"\", date_format=\"%b %Y\", val_suffix=\"\"):\n",
    "    if len(preamble)>0 and preamble[-1]!=\" \":\n",
    "        preamble += \" \"\n",
    "    stats = get_stats(data)\n",
    "    return f\"{preamble}In {stats['latest']['date'].strftime('%B %Y')}, {name} was {stats['latest']['value']*val_multiplier:{val_format}}{val_suffix} . This is {human_change(stats['latest']['value'], stats['year_ago']['value'], stats['latest']['date'], stats['year_ago']['date'], date_format, val_format, change_format, change_multiplier, change_suffix, val_suffix=val_suffix, val_multiplier=val_multiplier)}. The average for the last {stats['avg_year_count']} years is {stats['avg']*val_multiplier:{val_format}}{val_suffix}.\"\n",
    "\n",
    "def upload_description(description, name, bucket=\"eco-temp-cache\"):\n",
    "    s3 = boto3.client('s3')\n",
    "    res = s3.put_object(Bucket=bucket, Key=f\"gd/descriptions/{name}.txt\", Body=json.dumps(description))\n",
    "    return f\"https://eco-temp-cache.s3.eu-west-2.amazonaws.com/gd/descriptions/{name}.txt\"\n",
    "\n",
    "def short_description(stats, var_name, date_format=\"%b %Y\", val_format=\".1%\", val_multiplier=1, val_suffix=\"\", suffix=\"\"):\n",
    "    direction = 'unchanged' if np.round(stats['latest']['value'], 3) == np.round(stats['year_ago']['value'], 3) else \"up\" if np.round(stats['latest']['value'], 3) > np.round(stats['year_ago']['value'], 3) else \"down\"\n",
    "    desc = f\"{var_name} is {stats['latest']['value']*val_multiplier:{val_format}}{val_suffix}. It is {direction} from {stats['year_ago_date'].strftime(date_format)} ({stats['year_ago']['value']*val_multiplier:{val_format}}{val_suffix}). The UK historical average (past {stats['avg_year_count']} years) is {stats['avg']*val_multiplier:{val_format}}{val_suffix}. {suffix}\"\n",
    "    return desc\n"
   ]
  },
  {
   "cell_type": "code",
   "execution_count": 4,
   "metadata": {},
   "outputs": [],
   "source": [
    "def parse_quarters(df):\n",
    "    df['quarter'] = pd.to_numeric(df.quarter.str.replace('Q', ''))\n",
    "    df['month'] = (df.quarter-1)*3+1\n",
    "    df['date'] = pd.to_datetime(df.year.astype(str) + '-' + df.month.astype(str) + '-01')\n",
    "    return df\n",
    "\n",
    "def parse_years(df):\n",
    "    df['date'] = pd.to_datetime(df.year.astype(str) + '-01-01')\n",
    "    return df\n",
    "\n",
    "def clean_ons_series(dataset_id, series_id, date_parser, key):\n",
    "    url = f'https://api.ons.gov.uk/timeseries/{series_id}/dataset/{dataset_id}/data'\n",
    "    req = requests.get(url)\n",
    "    data = req.json()\n",
    "    data = data[key]\n",
    "    df = pd.DataFrame(data)\n",
    "    df = date_parser(df)\n",
    "    df = df[['date', 'value']]\n",
    "    df = df.dropna()\n",
    "    return df"
   ]
  },
  {
   "cell_type": "markdown",
   "metadata": {},
   "source": [
    "# Current Account Balance"
   ]
  },
  {
   "cell_type": "code",
   "execution_count": 5,
   "metadata": {},
   "outputs": [],
   "source": [
    "curr_acc_ids = {\n",
    "    # Total Gross Fixed Capital Formation CVM SA £m\n",
    "    # from Business investment time series (CXNV)\n",
    "    \"dataset_id\": 'UKEA',\n",
    "    \"series_id\" : 'AA6H'\n",
    "}\n",
    "\n",
    "curr_act = clean_ons_series(curr_acc_ids['dataset_id'], curr_acc_ids['series_id'], parse_quarters, 'quarters')\n",
    "curr_act['value'] = curr_act['value'].astype(float)/100\n",
    "\n",
    "curr_act_url = upload_series(curr_act, 'macro_curr_act')\n",
    "prepare_spec(curr_act_url, \"macro_curr_act\", \"Current Account, % of GDP\", parent_path=charts_path, yAxisExpr=\"format(datum.value, '.0%')\")"
   ]
  },
  {
   "cell_type": "code",
   "execution_count": 6,
   "metadata": {},
   "outputs": [
    {
     "name": "stdout",
     "output_type": "stream",
     "text": [
      "The current account balance is -3.1% of GDP. It is down from Oct 2022 (0.6% of GDP). The UK historical average (past 9 years) is -3.5% of GDP. \n"
     ]
    }
   ],
   "source": [
    "stats = get_stats(curr_act)\n",
    "description = short_description(stats, \"The current account balance\", val_format=\".1%\", val_multiplier=1, val_suffix=\" of GDP\")\n",
    "description_url = upload_description(description, \"macro_curr_act\")\n",
    "print(description)"
   ]
  },
  {
   "cell_type": "markdown",
   "metadata": {},
   "source": [
    "# Fiscal Balance"
   ]
  },
  {
   "cell_type": "code",
   "execution_count": 8,
   "metadata": {},
   "outputs": [
    {
     "data": {
      "text/plain": [
       "-4.13"
      ]
     },
     "execution_count": 8,
     "metadata": {},
     "output_type": "execute_result"
    }
   ],
   "source": [
    "np.mean([-0.8, -4.8, -2.5, -4.7, -5.58, -6.4])"
   ]
  },
  {
   "cell_type": "code",
   "execution_count": 9,
   "metadata": {},
   "outputs": [
    {
     "name": "stdout",
     "output_type": "stream",
     "text": [
      "The deficit is 2.5% of GDP. It is down from Oct 2022 (2.9% of GDP). The UK historical average (past 9 years) is 3.0% of GDP. The G7 average is 4.13%.\n"
     ]
    }
   ],
   "source": [
    "fiscal_bal_ids = {\n",
    "    #PS: Current Budget Deficit (exc PS Banks) as a % of GDP: CPNSA\n",
    "    \"dataset_id\": 'PUSF',\n",
    "    \"series_id\" : 'JW2V'\n",
    "}\n",
    "\n",
    "fiscal_bal = clean_ons_series(fiscal_bal_ids['dataset_id'], fiscal_bal_ids['series_id'], parse_quarters, 'quarters')\n",
    "fiscal_bal['value'] = fiscal_bal['value'].astype(float)/100\n",
    "fiscal_bal_url = upload_series(fiscal_bal, 'macro_fiscal_bal')\n",
    "\n",
    "prepare_spec(fiscal_bal_url, \"macro_fiscal_bal\", \"Fiscal Balance, % of GDP\", parent_path=charts_path, yAxisExpr=\"format(datum.value, '.0%')\")\n",
    "stats = get_stats(fiscal_bal)\n",
    "suffix=\"The G7 average is 4.13%.\"\n",
    "description = short_description(stats, \"The deficit\", val_format=\".1%\", val_multiplier=1, val_suffix=\" of GDP\", suffix=suffix)\n",
    "description_url = upload_description(description, \"macro_fiscal_bal\")\n",
    "print(description)\n"
   ]
  },
  {
   "cell_type": "markdown",
   "metadata": {},
   "source": [
    "# GDP Data (for IIP)"
   ]
  },
  {
   "cell_type": "code",
   "execution_count": 45,
   "metadata": {},
   "outputs": [],
   "source": [
    "gdp_cp_nsa_ids = {\n",
    "    #Gross Domestic Product at market prices: CP: NSA £m\n",
    "    \"dataset_id\": 'QNA',\n",
    "    \"series_id\" : 'BKTL'\n",
    "}\n",
    "\n",
    "gdp_cp_nsa = clean_ons_series(gdp_cp_nsa_ids['dataset_id'], gdp_cp_nsa_ids['series_id'], parse_years, 'years')\n"
   ]
  },
  {
   "cell_type": "markdown",
   "metadata": {},
   "source": [
    "# International Investment Position"
   ]
  },
  {
   "cell_type": "code",
   "execution_count": 46,
   "metadata": {},
   "outputs": [
    {
     "name": "stdout",
     "output_type": "stream",
     "text": [
      "The International Investment Position is -30.7% of GDP. It is down from 2022 (-14.3% of GDP). The UK historical average (past 9 years) is -11.2% of GDP.\n"
     ]
    }
   ],
   "source": [
    "iip_ids = {\n",
    "    # BoP IIP Net NSA £m\n",
    "    \"dataset_id\": 'PNBP',\n",
    "    \"series_id\": \"HBQC\"\n",
    "}\n",
    "\n",
    "iip = clean_ons_series(iip_ids['dataset_id'], iip_ids['series_id'], parse_years, 'years')\n",
    "iip = iip.merge(gdp_cp_nsa, on='date', how='left')\n",
    "iip['value'] = iip['value_x'].astype(float)/iip['value_y'].astype(float)\n",
    "iip = iip[['date', 'value']]\n",
    "iip = iip.dropna()\n",
    "iip_url = upload_series(iip, 'macro_iip')\n",
    "prepare_spec(iip_url, \"macro_iip\", \"International Investment Position, % of GDP\", parent_path=charts_path, yAxisExpr=\"format(datum.value, '.0%')\")\n",
    "\n",
    "stats = get_stats(iip)\n",
    "description = short_description(stats, \"The International Investment Position\", val_format=\".1%\", val_multiplier=1, val_suffix=\" of GDP\", date_format=\"%Y\")\n",
    "description_url = upload_description(description, \"macro_iip\")\n",
    "print(description)\n"
   ]
  },
  {
   "cell_type": "markdown",
   "metadata": {},
   "source": [
    "# Debt/GDP Ratio"
   ]
  },
  {
   "cell_type": "code",
   "execution_count": 47,
   "metadata": {},
   "outputs": [
    {
     "name": "stdout",
     "output_type": "stream",
     "text": [
      "The debt ratio is 98.4%. It is up from Oct 2022 (95.7%). The UK historical average (past 9 years) is 87.6%.\n"
     ]
    }
   ],
   "source": [
    "debt_ids = {\n",
    "    #PS: Net Debt (excluding public sector banks) as a % of GDP: NSA   \n",
    "    \"dataset_id\": 'PUSF',\n",
    "    \"series_id\": 'HF6X'\n",
    "}\n",
    "\n",
    "debt = clean_ons_series(debt_ids['dataset_id'], debt_ids['series_id'], parse_quarters, 'quarters')\n",
    "debt['value'] = pd.to_numeric(debt['value'], errors='coerce')/100\n",
    "debt = debt.dropna()\n",
    "\n",
    "debt_url = upload_series(debt, 'macro_debt')\n",
    "prepare_spec(debt_url, \"macro_debt\", \"Net Debt, % of GDP\", parent_path=charts_path, yAxisExpr=\"format(datum.value, '.0%')\")\n",
    "\n",
    "stats = get_stats(debt)\n",
    "description = short_description(stats, \"The debt ratio\", val_format=\".1%\", val_multiplier=1, val_suffix=\"\")\n",
    "description_url = upload_description(description, \"macro_debt\")\n",
    "print(description)"
   ]
  },
  {
   "cell_type": "code",
   "execution_count": 48,
   "metadata": {},
   "outputs": [
    {
     "data": {
      "text/plain": [
       "-0.3070100097276482"
      ]
     },
     "execution_count": 48,
     "metadata": {},
     "output_type": "execute_result"
    }
   ],
   "source": [
    "-824993/2_687_186"
   ]
  },
  {
   "cell_type": "code",
   "execution_count": null,
   "metadata": {},
   "outputs": [],
   "source": []
  },
  {
   "cell_type": "code",
   "execution_count": null,
   "metadata": {},
   "outputs": [],
   "source": []
  },
  {
   "cell_type": "code",
   "execution_count": null,
   "metadata": {},
   "outputs": [],
   "source": []
  }
 ],
 "metadata": {
  "kernelspec": {
   "display_name": "base",
   "language": "python",
   "name": "python3"
  },
  "language_info": {
   "codemirror_mode": {
    "name": "ipython",
    "version": 3
   },
   "file_extension": ".py",
   "mimetype": "text/x-python",
   "name": "python",
   "nbconvert_exporter": "python",
   "pygments_lexer": "ipython3",
   "version": "3.11.4"
  }
 },
 "nbformat": 4,
 "nbformat_minor": 2
}
